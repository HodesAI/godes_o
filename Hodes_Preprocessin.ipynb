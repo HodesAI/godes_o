{
  "metadata": {
    "varInspector": {
      "cols": {
        "lenName": 16,
        "lenType": 16,
        "lenVar": 40
      },
      "kernels_config": {
        "python": {
          "delete_cmd_postfix": "",
          "delete_cmd_prefix": "del ",
          "library": "var_list.py",
          "varRefreshCmd": "print(var_dic_list())"
        },
        "r": {
          "delete_cmd_postfix": ") ",
          "delete_cmd_prefix": "rm(",
          "library": "var_list.r",
          "varRefreshCmd": "cat(var_dic_list()) "
        }
      },
      "types_to_exclude": [
        "module",
        "function",
        "builtin_function_or_method",
        "instance",
        "_Feature"
      ],
      "window_display": false
    },
    "kernelspec": {
      "name": "python",
      "display_name": "Python (Pyodide)",
      "language": "python"
    },
    "language_info": {
      "codemirror_mode": {
        "name": "python",
        "version": 3
      },
      "file_extension": ".py",
      "mimetype": "text/x-python",
      "name": "python",
      "nbconvert_exporter": "python",
      "pygments_lexer": "ipython3",
      "version": "3.8"
    }
  },
  "nbformat_minor": 5,
  "nbformat": 4,
  "cells": [
    {
      "cell_type": "markdown",
      "source": "# ЛАБОРАТОРНА РОБОТА  \n\n## \"Алгоритми та моделі перетворення даних\"\n\n__Метою__ лабораторної роботи є набуття практичних навичок використання модулів бібліотеки `Scikit-learn` для вирішення наступних задач:\n\n- визначення та розподілення данних по їх типам\n- вибір та застосування алгоритмів перетворення різноманітних типів даних\n- настроювання параметрів та застосування трансформерів\n- побудова конвеєра для автоматизації процесів трансформації даних\n\n__Результатом__ виконання лабораторної роботи повинен стати датасет, в якому колонки з покажчиком перетворені під для навчання моделей",
      "metadata": {},
      "id": "400680a4"
    },
    {
      "cell_type": "code",
      "source": "# імпортувати бібліотеки pandas та numpy\nimport pandas as pd\nimport numpy as np\nimport matplotlib.pyplot as plt",
      "metadata": {
        "trusted": true
      },
      "execution_count": 18,
      "outputs": [],
      "id": "50098a89"
    },
    {
      "cell_type": "markdown",
      "source": "## Завдання\n\nВхідним датасетом є csv-файл, отриманий в результаті виконання лабораторної роботи по конструюванню та очищеню покажчиків даних про продажі квартир рієлторської компанії.\n\n<h4 style='background-color:cyan; color:red; padding:15px'><ul>\n    <li>замість `...` вписуйте Ваш програмний код\n    <li>не змінюйте імена запропонованих зміних\n    </ul>\n</h4>",
      "metadata": {},
      "id": "306ace06"
    },
    {
      "cell_type": "code",
      "source": "# ззчитати підготовлений датасет `apartments_clean.csv` в датафрейм та проінспектувати його стан\ndata = pd.read_csv('apartments_clean.csv')\ndata.head()",
      "metadata": {
        "trusted": true
      },
      "execution_count": 2,
      "outputs": [
        {
          "execution_count": 2,
          "output_type": "execute_result",
          "data": {
            "text/plain": "      Price  rooms  price_per_m2  level  levels    year  area_total  \\\n0   30970.0    1.0        1106.0   12.0    13.0  2013.0        28.0   \n1   82000.0    2.0        1281.0   18.0    26.0  2009.0        64.0   \n2  135000.0    2.0        2077.0   16.0    23.0  2012.0        65.0   \n3   84000.0    2.0        1273.0    6.0    26.0  2009.0        66.0   \n4   60000.0    1.0        1463.0    2.0    26.0  2009.0        41.0   \n\n   area_living  area_kitchen           street     district  area_comfort  \n0         13.0           5.0  Петропавлівська  Оболонський          10.0  \n1         37.0          14.0      Дніпровська  Оболонський          13.0  \n2         25.0          18.0      Дніпровська  Оболонський          22.0  \n3         37.0          18.0      Дніпровська  Оболонський          11.0  \n4         37.0          14.0      Дніпровська  Оболонський           0.0  ",
            "text/html": "<div>\n<style scoped>\n    .dataframe tbody tr th:only-of-type {\n        vertical-align: middle;\n    }\n\n    .dataframe tbody tr th {\n        vertical-align: top;\n    }\n\n    .dataframe thead th {\n        text-align: right;\n    }\n</style>\n<table border=\"1\" class=\"dataframe\">\n  <thead>\n    <tr style=\"text-align: right;\">\n      <th></th>\n      <th>Price</th>\n      <th>rooms</th>\n      <th>price_per_m2</th>\n      <th>level</th>\n      <th>levels</th>\n      <th>year</th>\n      <th>area_total</th>\n      <th>area_living</th>\n      <th>area_kitchen</th>\n      <th>street</th>\n      <th>district</th>\n      <th>area_comfort</th>\n    </tr>\n  </thead>\n  <tbody>\n    <tr>\n      <th>0</th>\n      <td>30970.0</td>\n      <td>1.0</td>\n      <td>1106.0</td>\n      <td>12.0</td>\n      <td>13.0</td>\n      <td>2013.0</td>\n      <td>28.0</td>\n      <td>13.0</td>\n      <td>5.0</td>\n      <td>Петропавлівська</td>\n      <td>Оболонський</td>\n      <td>10.0</td>\n    </tr>\n    <tr>\n      <th>1</th>\n      <td>82000.0</td>\n      <td>2.0</td>\n      <td>1281.0</td>\n      <td>18.0</td>\n      <td>26.0</td>\n      <td>2009.0</td>\n      <td>64.0</td>\n      <td>37.0</td>\n      <td>14.0</td>\n      <td>Дніпровська</td>\n      <td>Оболонський</td>\n      <td>13.0</td>\n    </tr>\n    <tr>\n      <th>2</th>\n      <td>135000.0</td>\n      <td>2.0</td>\n      <td>2077.0</td>\n      <td>16.0</td>\n      <td>23.0</td>\n      <td>2012.0</td>\n      <td>65.0</td>\n      <td>25.0</td>\n      <td>18.0</td>\n      <td>Дніпровська</td>\n      <td>Оболонський</td>\n      <td>22.0</td>\n    </tr>\n    <tr>\n      <th>3</th>\n      <td>84000.0</td>\n      <td>2.0</td>\n      <td>1273.0</td>\n      <td>6.0</td>\n      <td>26.0</td>\n      <td>2009.0</td>\n      <td>66.0</td>\n      <td>37.0</td>\n      <td>18.0</td>\n      <td>Дніпровська</td>\n      <td>Оболонський</td>\n      <td>11.0</td>\n    </tr>\n    <tr>\n      <th>4</th>\n      <td>60000.0</td>\n      <td>1.0</td>\n      <td>1463.0</td>\n      <td>2.0</td>\n      <td>26.0</td>\n      <td>2009.0</td>\n      <td>41.0</td>\n      <td>37.0</td>\n      <td>14.0</td>\n      <td>Дніпровська</td>\n      <td>Оболонський</td>\n      <td>0.0</td>\n    </tr>\n  </tbody>\n</table>\n</div>"
          },
          "metadata": {}
        }
      ],
      "id": "4428c2d4"
    },
    {
      "cell_type": "markdown",
      "source": "## 1. Визначення типів покажчиків вхідного датасету",
      "metadata": {
        "heading_collapsed": true
      },
      "id": "9657db97"
    },
    {
      "cell_type": "code",
      "source": "# відокремити від робочого датасету колонку з цільовим показчиком (`Price`) \n# та вилучити її з обробки\ntarget = data['Price']\ndata = data.drop('Price', axis=1)",
      "metadata": {
        "hidden": true,
        "trusted": true
      },
      "execution_count": null,
      "outputs": [
        {
          "ename": "<class 'KeyError'>",
          "evalue": "'Price'",
          "traceback": [
            "\u001b[0;31m---------------------------------------------------------------------------\u001b[0m",
            "\u001b[0;31mKeyError\u001b[0m                                  Traceback (most recent call last)",
            "File \u001b[0;32m/lib/python3.11/site-packages/pandas/core/indexes/base.py:3802\u001b[0m, in \u001b[0;36mIndex.get_loc\u001b[0;34m(self, key, method, tolerance)\u001b[0m\n\u001b[1;32m   3801\u001b[0m \u001b[38;5;28;01mtry\u001b[39;00m:\n\u001b[0;32m-> 3802\u001b[0m     \u001b[38;5;28;01mreturn\u001b[39;00m \u001b[38;5;28;43mself\u001b[39;49m\u001b[38;5;241;43m.\u001b[39;49m\u001b[43m_engine\u001b[49m\u001b[38;5;241;43m.\u001b[39;49m\u001b[43mget_loc\u001b[49m\u001b[43m(\u001b[49m\u001b[43mcasted_key\u001b[49m\u001b[43m)\u001b[49m\n\u001b[1;32m   3803\u001b[0m \u001b[38;5;28;01mexcept\u001b[39;00m \u001b[38;5;167;01mKeyError\u001b[39;00m \u001b[38;5;28;01mas\u001b[39;00m err:\n",
            "File \u001b[0;32m/lib/python3.11/site-packages/pandas/_libs/index.pyx:138\u001b[0m, in \u001b[0;36mpandas._libs.index.IndexEngine.get_loc\u001b[0;34m()\u001b[0m\n",
            "File \u001b[0;32m/lib/python3.11/site-packages/pandas/_libs/index.pyx:165\u001b[0m, in \u001b[0;36mpandas._libs.index.IndexEngine.get_loc\u001b[0;34m()\u001b[0m\n",
            "File \u001b[0;32mpandas/_libs/hashtable_class_helper.pxi:5745\u001b[0m, in \u001b[0;36mpandas._libs.hashtable.PyObjectHashTable.get_item\u001b[0;34m()\u001b[0m\n",
            "File \u001b[0;32mpandas/_libs/hashtable_class_helper.pxi:5753\u001b[0m, in \u001b[0;36mpandas._libs.hashtable.PyObjectHashTable.get_item\u001b[0;34m()\u001b[0m\n",
            "\u001b[0;31mKeyError\u001b[0m: 'Price'",
            "\nThe above exception was the direct cause of the following exception:\n",
            "\u001b[0;31mKeyError\u001b[0m                                  Traceback (most recent call last)",
            "Cell \u001b[0;32mIn[5], line 3\u001b[0m\n\u001b[1;32m      1\u001b[0m \u001b[38;5;66;03m# відокремити від робочого датасету колонку з цільовим показчиком (`Price`) \u001b[39;00m\n\u001b[1;32m      2\u001b[0m \u001b[38;5;66;03m# та вилучити її з обробки\u001b[39;00m\n\u001b[0;32m----> 3\u001b[0m target \u001b[38;5;241m=\u001b[39m \u001b[43mdata\u001b[49m\u001b[43m[\u001b[49m\u001b[38;5;124;43m'\u001b[39;49m\u001b[38;5;124;43mPrice\u001b[39;49m\u001b[38;5;124;43m'\u001b[39;49m\u001b[43m]\u001b[49m\n\u001b[1;32m      4\u001b[0m data \u001b[38;5;241m=\u001b[39m data\u001b[38;5;241m.\u001b[39mdrop(\u001b[38;5;124m'\u001b[39m\u001b[38;5;124mPrice\u001b[39m\u001b[38;5;124m'\u001b[39m, axis\u001b[38;5;241m=\u001b[39m\u001b[38;5;241m1\u001b[39m)\n",
            "File \u001b[0;32m/lib/python3.11/site-packages/pandas/core/frame.py:3807\u001b[0m, in \u001b[0;36mDataFrame.__getitem__\u001b[0;34m(self, key)\u001b[0m\n\u001b[1;32m   3805\u001b[0m \u001b[38;5;28;01mif\u001b[39;00m \u001b[38;5;28mself\u001b[39m\u001b[38;5;241m.\u001b[39mcolumns\u001b[38;5;241m.\u001b[39mnlevels \u001b[38;5;241m>\u001b[39m \u001b[38;5;241m1\u001b[39m:\n\u001b[1;32m   3806\u001b[0m     \u001b[38;5;28;01mreturn\u001b[39;00m \u001b[38;5;28mself\u001b[39m\u001b[38;5;241m.\u001b[39m_getitem_multilevel(key)\n\u001b[0;32m-> 3807\u001b[0m indexer \u001b[38;5;241m=\u001b[39m \u001b[38;5;28;43mself\u001b[39;49m\u001b[38;5;241;43m.\u001b[39;49m\u001b[43mcolumns\u001b[49m\u001b[38;5;241;43m.\u001b[39;49m\u001b[43mget_loc\u001b[49m\u001b[43m(\u001b[49m\u001b[43mkey\u001b[49m\u001b[43m)\u001b[49m\n\u001b[1;32m   3808\u001b[0m \u001b[38;5;28;01mif\u001b[39;00m is_integer(indexer):\n\u001b[1;32m   3809\u001b[0m     indexer \u001b[38;5;241m=\u001b[39m [indexer]\n",
            "File \u001b[0;32m/lib/python3.11/site-packages/pandas/core/indexes/base.py:3804\u001b[0m, in \u001b[0;36mIndex.get_loc\u001b[0;34m(self, key, method, tolerance)\u001b[0m\n\u001b[1;32m   3802\u001b[0m     \u001b[38;5;28;01mreturn\u001b[39;00m \u001b[38;5;28mself\u001b[39m\u001b[38;5;241m.\u001b[39m_engine\u001b[38;5;241m.\u001b[39mget_loc(casted_key)\n\u001b[1;32m   3803\u001b[0m \u001b[38;5;28;01mexcept\u001b[39;00m \u001b[38;5;167;01mKeyError\u001b[39;00m \u001b[38;5;28;01mas\u001b[39;00m err:\n\u001b[0;32m-> 3804\u001b[0m     \u001b[38;5;28;01mraise\u001b[39;00m \u001b[38;5;167;01mKeyError\u001b[39;00m(key) \u001b[38;5;28;01mfrom\u001b[39;00m \u001b[38;5;21;01merr\u001b[39;00m\n\u001b[1;32m   3805\u001b[0m \u001b[38;5;28;01mexcept\u001b[39;00m \u001b[38;5;167;01mTypeError\u001b[39;00m:\n\u001b[1;32m   3806\u001b[0m     \u001b[38;5;66;03m# If we have a listlike key, _check_indexing_error will raise\u001b[39;00m\n\u001b[1;32m   3807\u001b[0m     \u001b[38;5;66;03m#  InvalidIndexError. Otherwise we fall through and re-raise\u001b[39;00m\n\u001b[1;32m   3808\u001b[0m     \u001b[38;5;66;03m#  the TypeError.\u001b[39;00m\n\u001b[1;32m   3809\u001b[0m     \u001b[38;5;28mself\u001b[39m\u001b[38;5;241m.\u001b[39m_check_indexing_error(key)\n",
            "\u001b[0;31mKeyError\u001b[0m: 'Price'"
          ],
          "output_type": "error"
        }
      ],
      "id": "fb9d7753"
    },
    {
      "cell_type": "code",
      "source": "# для самоперевірки: кількисть рядків в датасетах повинна співпадати!\ntarget.shape, data.shape",
      "metadata": {
        "hidden": true,
        "trusted": true
      },
      "execution_count": 6,
      "outputs": [
        {
          "execution_count": 6,
          "output_type": "execute_result",
          "data": {
            "text/plain": "((376,), (376, 11))"
          },
          "metadata": {}
        }
      ],
      "id": "dbb005f1"
    },
    {
      "cell_type": "code",
      "source": "# імпортувати з sklearn модуль, що відповідає за селективний відбір покажчиків\nfrom sklearn.compose import make_column_selector as selector",
      "metadata": {
        "hidden": true,
        "trusted": true
      },
      "execution_count": 9,
      "outputs": [],
      "id": "ae23f321"
    },
    {
      "cell_type": "code",
      "source": "# побудувати  селектори для вібіру числових та категоріальних колонок\nnumeric_selector = selector(dtype_include=np.number)\ncategory_selector = selector(dtype_include='object')",
      "metadata": {
        "hidden": true,
        "trusted": true
      },
      "execution_count": 10,
      "outputs": [],
      "id": "652f0ba2"
    },
    {
      "cell_type": "code",
      "source": "# застосувати побудовані селектори для створення списків числових та категоріальних показчиків\nnumeric_data_columns = numeric_selector(data)\ncategory_data_columns = category_selector(data)\n\nprint(f'список числових покажчиків = {numeric_data_columns}')\nprint(f'список категоріальних покажчиків = {category_data_columns}')",
      "metadata": {
        "hidden": true,
        "trusted": true
      },
      "execution_count": 11,
      "outputs": [
        {
          "name": "stdout",
          "text": "список числових покажчиків = ['rooms', 'price_per_m2', 'level', 'levels', 'year', 'area_total', 'area_living', 'area_kitchen', 'area_comfort']\nсписок категоріальних покажчиків = ['street', 'district']\n",
          "output_type": "stream"
        }
      ],
      "id": "a673dde6"
    },
    {
      "cell_type": "code",
      "source": "# створити 2 окремі датасети: числовий та категоріальний та вивести їх основні властивості\ndata_numeric = data[numeric_data_columns]\ndata_category = data[category_data_columns]\n\ndata_numeric.shape, data_category.shape",
      "metadata": {
        "hidden": true,
        "trusted": true
      },
      "execution_count": 12,
      "outputs": [
        {
          "execution_count": 12,
          "output_type": "execute_result",
          "data": {
            "text/plain": "((376, 9), (376, 2))"
          },
          "metadata": {}
        }
      ],
      "id": "6ecaeec9"
    },
    {
      "cell_type": "markdown",
      "source": "## 2. Маштабування числових та категоріальних колонок",
      "metadata": {},
      "id": "6702f1f4"
    },
    {
      "cell_type": "markdown",
      "source": "### 2.1. Маштабування числових показчиків",
      "metadata": {
        "heading_collapsed": true
      },
      "id": "73613dc5"
    },
    {
      "cell_type": "code",
      "source": "# з модуля `preprocessing` імпортувати нормалізатор 'MinMaxScaler' та стандартизатор 'StandardScaler'\nfrom sklearn.preprocessing import MinMaxScaler, StandardScaler",
      "metadata": {
        "hidden": true,
        "trusted": true
      },
      "execution_count": 13,
      "outputs": [],
      "id": "17349145"
    },
    {
      "cell_type": "code",
      "source": "# створити відповідні маштабувачі\nstandart_scaler = StandardScaler()\nmin_max_scaler = MinMaxScaler()",
      "metadata": {
        "hidden": true,
        "trusted": true
      },
      "execution_count": 14,
      "outputs": [],
      "id": "6fc56713"
    },
    {
      "cell_type": "code",
      "source": "# побудувати змаштабовані датасети за двома стратегіями: стандартизація та нормалізація\ndata_numeric_std = standart_scaler.fit_transform(data_numeric)\ndata_numeric_min_max= min_max_scaler.fit_transform(data_numeric)",
      "metadata": {
        "hidden": true,
        "trusted": true
      },
      "execution_count": 15,
      "outputs": [],
      "id": "0f4a23e6"
    },
    {
      "cell_type": "code",
      "source": "# побудувати графіки розподілення значень показчиків при\n# стандартном та нормалізованом маштабуванні\n\npd.DataFrame(data_numeric_std).plot(kind='hist', legend=False, color='green', \n                                    figsize=[5, 3], width=1.7, title='Стандартизація')\n\npd.DataFrame(data_numeric_min_max).plot(kind='hist', legend=False, color='orange', \n                                        figsize=[5, 3], width=0.07, title='Нормалізація')",
      "metadata": {
        "hidden": true,
        "trusted": true
      },
      "execution_count": 19,
      "outputs": [
        {
          "execution_count": 19,
          "output_type": "execute_result",
          "data": {
            "text/plain": "<AxesSubplot:title={'center':'Нормалізація'}, ylabel='Frequency'>"
          },
          "metadata": {}
        },
        {
          "output_type": "display_data",
          "data": {
            "text/plain": "<Figure size 500x300 with 1 Axes>",
            "image/png": "[encoded data removed]"
          },
          "metadata": {}
        },
        {
          "output_type": "display_data",
          "data": {
            "text/plain": "<Figure size 500x300 with 1 Axes>",
            "image/png": "[encoded data removed]"
          },
          "metadata": {}
        }
      ],
      "id": "343c666c"
    },
    {
      "cell_type": "markdown",
      "source": "#####  __проаналізувати графіки та визначись який маштабувач краще підходить до числовї підмножини робочого датасету__",
      "metadata": {
        "hidden": true
      },
      "id": "3813999f"
    },
    {
      "cell_type": "markdown",
      "source": "### 2.2. Маштабування категоріальних показчиків",
      "metadata": {
        "heading_collapsed": true
      },
      "id": "b76b10d8"
    },
    {
      "cell_type": "code",
      "source": "# з модуля `preporcessing` імпортувати кодувальники 'OrdinalEncoder' та 'OneHotEncoder'\nfrom sklearn.preprocessing import OrdinalEncoder, OneHotEncoder",
      "metadata": {
        "hidden": true,
        "trusted": true
      },
      "execution_count": 21,
      "outputs": [],
      "id": "8f404fef"
    },
    {
      "cell_type": "code",
      "source": "# проаналізувати категоріальні показчики та визначитись до якого показчика\n# який енкодер доцільно застосовувати\n## Для показчика district доцільно викорстовувати енкодер OrdinalEncoder, \n## тому що для нас має значення послідовність та, так звана, вага значень цієї ознаки\n## Для показчика street доцільно викорстовувати енкодер OneHotEncoder, \n## тому що тут для нас не має значення послідовність",
      "metadata": {
        "hidden": true
      },
      "execution_count": null,
      "outputs": [],
      "id": "9118d4ce"
    },
    {
      "cell_type": "code",
      "source": "# створити енкодери та закодувати ними відповідні категоріальні колонки\nordinal_encoder = OrdinalEncoder().fit_transform(data_category[['district']])\none_hot_encoder = OneHotEncoder(sparse_output=False).fit_transform(data_category[['street']])",
      "metadata": {
        "hidden": true,
        "trusted": true
      },
      "execution_count": 22,
      "outputs": [],
      "id": "b70c4794"
    },
    {
      "cell_type": "markdown",
      "source": "## 3. Побудова трансформера для підготовки даних",
      "metadata": {
        "heading_collapsed": true
      },
      "id": "bb506c75"
    },
    {
      "cell_type": "code",
      "source": "# з модуля `compose` імпортувати трансформер колонок `ColumnTransformer`\nfrom sklearn.compose import ColumnTransformer",
      "metadata": {
        "hidden": true,
        "trusted": true
      },
      "execution_count": 23,
      "outputs": [],
      "id": "7c6c1930"
    },
    {
      "cell_type": "code",
      "source": "# побудувати трансформер для предобробки числових та категоріальних показчиків\n# робочого датасету\ntransformer = ColumnTransformer([\n    ('ord_categirical_encoder', OrdinalEncoder(), ['district']),\n    ('ohe_categirical_encoder', OneHotEncoder(sparse_output=False), ['street']),\n    ('numeric_encoder', standart_scaler, numeric_data_columns)\n])\nprint(transformer)",
      "metadata": {
        "hidden": true,
        "trusted": true
      },
      "execution_count": 24,
      "outputs": [
        {
          "name": "stdout",
          "text": "ColumnTransformer(transformers=[('ord_categirical_encoder', OrdinalEncoder(),\n                                 ['district']),\n                                ('ohe_categirical_encoder',\n                                 OneHotEncoder(sparse_output=False),\n                                 ['street']),\n                                ('numeric_encoder', StandardScaler(),\n                                 ['rooms', 'price_per_m2', 'level', 'levels',\n                                  'year', 'area_total', 'area_living',\n                                  'area_kitchen', 'area_comfort'])])\n",
          "output_type": "stream"
        }
      ],
      "id": "2605b0c2"
    },
    {
      "cell_type": "code",
      "source": "# отримати вихідний масив застосував трансфомер до вхідного датасуту\ndata_transformed = transformer.fit_transform(data)\ndata_transformed.shape",
      "metadata": {
        "code_folding": [],
        "hidden": true,
        "trusted": true
      },
      "execution_count": 25,
      "outputs": [
        {
          "execution_count": 25,
          "output_type": "execute_result",
          "data": {
            "text/plain": "(376, 174)"
          },
          "metadata": {}
        }
      ],
      "id": "2375ade7"
    },
    {
      "cell_type": "code",
      "source": "# побудувати вихідний датафрейм з вихідного масиву додавши в першу колонку\n# ціловий показчик `target`\ndata_transformed = pd.DataFrame(data_transformed, columns=transformer.get_feature_names_out())\ntarget = pd.DataFrame(target)\n\napartment_transformed = pd.concat([target, data_transformed], axis=1)\napartment_transformed",
      "metadata": {
        "hidden": true,
        "trusted": true
      },
      "execution_count": 26,
      "outputs": [
        {
          "execution_count": 26,
          "output_type": "execute_result",
          "data": {
            "text/plain": "        Price  ord_categirical_encoder__district  \\\n0     30970.0                               11.0   \n1     82000.0                               11.0   \n2    135000.0                               11.0   \n3     84000.0                               11.0   \n4     60000.0                               11.0   \n..        ...                                ...   \n371   42900.0                               18.0   \n372  115000.0                                0.0   \n373   39000.0                               11.0   \n374  115000.0                                6.0   \n375   90005.0                               20.0   \n\n     ohe_categirical_encoder__street_Інститутська  \\\n0                                             0.0   \n1                                             0.0   \n2                                             0.0   \n3                                             0.0   \n4                                             0.0   \n..                                            ...   \n371                                           0.0   \n372                                           0.0   \n373                                           0.0   \n374                                           0.0   \n375                                           0.0   \n\n     ohe_categirical_encoder__street_Іскрівська  \\\n0                                           0.0   \n1                                           0.0   \n2                                           0.0   \n3                                           0.0   \n4                                           0.0   \n..                                          ...   \n371                                         1.0   \n372                                         0.0   \n373                                         0.0   \n374                                         0.0   \n375                                         0.0   \n\n     ohe_categirical_encoder__street_Автозаводська  \\\n0                                              0.0   \n1                                              0.0   \n2                                              0.0   \n3                                              0.0   \n4                                              0.0   \n..                                             ...   \n371                                            0.0   \n372                                            0.0   \n373                                            1.0   \n374                                            0.0   \n375                                            0.0   \n\n     ohe_categirical_encoder__street_Азербайджанська  \\\n0                                                0.0   \n1                                                0.0   \n2                                                0.0   \n3                                                0.0   \n4                                                0.0   \n..                                               ...   \n371                                              0.0   \n372                                              0.0   \n373                                              0.0   \n374                                              0.0   \n375                                              0.0   \n\n     ohe_categirical_encoder__street_Антоновича  \\\n0                                           0.0   \n1                                           0.0   \n2                                           0.0   \n3                                           0.0   \n4                                           0.0   \n..                                          ...   \n371                                         0.0   \n372                                         0.0   \n373                                         0.0   \n374                                         0.0   \n375                                         0.0   \n\n     ohe_categirical_encoder__street_Багговутівська  \\\n0                                               0.0   \n1                                               0.0   \n2                                               0.0   \n3                                               0.0   \n4                                               0.0   \n..                                              ...   \n371                                             0.0   \n372                                             0.0   \n373                                             0.0   \n374                                             0.0   \n375                                             0.0   \n\n     ohe_categirical_encoder__street_Балтійський  \\\n0                                            0.0   \n1                                            0.0   \n2                                            0.0   \n3                                            0.0   \n4                                            0.0   \n..                                           ...   \n371                                          0.0   \n372                                          0.0   \n373                                          0.0   \n374                                          0.0   \n375                                          0.0   \n\n     ohe_categirical_encoder__street_Басейна  ...  \\\n0                                        0.0  ...   \n1                                        0.0  ...   \n2                                        0.0  ...   \n3                                        0.0  ...   \n4                                        0.0  ...   \n..                                       ...  ...   \n371                                      0.0  ...   \n372                                      0.0  ...   \n373                                      0.0  ...   \n374                                      0.0  ...   \n375                                      0.0  ...   \n\n     ohe_categirical_encoder__street_Ясинуватський  numeric_encoder__rooms  \\\n0                                              0.0               -1.135681   \n1                                              0.0               -0.176094   \n2                                              0.0               -0.176094   \n3                                              0.0               -0.176094   \n4                                              0.0               -1.135681   \n..                                             ...                     ...   \n371                                            0.0               -0.176094   \n372                                            0.0               -1.135681   \n373                                            0.0               -1.135681   \n374                                            0.0                0.783492   \n375                                            0.0               -0.176094   \n\n     numeric_encoder__price_per_m2  numeric_encoder__level  \\\n0                        -0.139714                0.434832   \n1                        -0.117996                1.338130   \n2                        -0.019208                1.037031   \n3                        -0.118989               -0.468466   \n4                        -0.095409               -1.070664   \n..                             ...                     ...   \n371                      -0.153118               -1.221214   \n372                       0.047436               -1.070664   \n373                      -0.134626               -0.920115   \n374                      -0.136115                0.585382   \n375                      -0.039313               -0.167366   \n\n     numeric_encoder__levels  numeric_encoder__year  \\\n0                  -0.500464               0.556523   \n1                   1.059656               0.394280   \n2                   0.699628               0.515962   \n3                   1.059656               0.394280   \n4                   1.059656               0.394280   \n..                       ...                    ...   \n371                -1.460538               0.394280   \n372                -1.220519               0.799887   \n373                -1.460538              -1.593194   \n374                 0.939647               0.191477   \n375                -0.260446               0.394280   \n\n     numeric_encoder__area_total  numeric_encoder__area_living  \\\n0                      -1.050589                     -0.997549   \n1                      -0.297370                     -0.152619   \n2                      -0.276447                     -0.575084   \n3                      -0.255525                     -0.152619   \n4                      -0.778594                     -0.152619   \n..                           ...                           ...   \n371                    -0.736748                     -0.434262   \n372                    -0.715825                     -0.962343   \n373                    -0.925053                     -0.821522   \n374                    -0.192756                     -0.152619   \n375                    -0.653057                     -0.856727   \n\n     numeric_encoder__area_kitchen  numeric_encoder__area_comfort  \n0                        -1.180457                      -0.431288  \n1                        -0.180040                      -0.321841  \n2                         0.264590                       0.006501  \n3                         0.264590                      -0.394806  \n4                        -0.180040                      -0.796113  \n..                             ...                            ...  \n371                      -0.180040                      -0.796113  \n372                       0.598063                      -0.467771  \n373                      -0.846984                      -0.504253  \n374                      -0.180040                      -0.139429  \n375                       0.486905                      -0.431288  \n\n[376 rows x 175 columns]",
            "text/html": "<div>\n<style scoped>\n    .dataframe tbody tr th:only-of-type {\n        vertical-align: middle;\n    }\n\n    .dataframe tbody tr th {\n        vertical-align: top;\n    }\n\n    .dataframe thead th {\n        text-align: right;\n    }\n</style>\n<table border=\"1\" class=\"dataframe\">\n  <thead>\n    <tr style=\"text-align: right;\">\n      <th></th>\n      <th>Price</th>\n      <th>ord_categirical_encoder__district</th>\n      <th>ohe_categirical_encoder__street_Інститутська</th>\n      <th>ohe_categirical_encoder__street_Іскрівська</th>\n      <th>ohe_categirical_encoder__street_Автозаводська</th>\n      <th>ohe_categirical_encoder__street_Азербайджанська</th>\n      <th>ohe_categirical_encoder__street_Антоновича</th>\n      <th>ohe_categirical_encoder__street_Багговутівська</th>\n      <th>ohe_categirical_encoder__street_Балтійський</th>\n      <th>ohe_categirical_encoder__street_Басейна</th>\n      <th>...</th>\n      <th>ohe_categirical_encoder__street_Ясинуватський</th>\n      <th>numeric_encoder__rooms</th>\n      <th>numeric_encoder__price_per_m2</th>\n      <th>numeric_encoder__level</th>\n      <th>numeric_encoder__levels</th>\n      <th>numeric_encoder__year</th>\n      <th>numeric_encoder__area_total</th>\n      <th>numeric_encoder__area_living</th>\n      <th>numeric_encoder__area_kitchen</th>\n      <th>numeric_encoder__area_comfort</th>\n    </tr>\n  </thead>\n  <tbody>\n    <tr>\n      <th>0</th>\n      <td>30970.0</td>\n      <td>11.0</td>\n      <td>0.0</td>\n      <td>0.0</td>\n      <td>0.0</td>\n      <td>0.0</td>\n      <td>0.0</td>\n      <td>0.0</td>\n      <td>0.0</td>\n      <td>0.0</td>\n      <td>...</td>\n      <td>0.0</td>\n      <td>-1.135681</td>\n      <td>-0.139714</td>\n      <td>0.434832</td>\n      <td>-0.500464</td>\n      <td>0.556523</td>\n      <td>-1.050589</td>\n      <td>-0.997549</td>\n      <td>-1.180457</td>\n      <td>-0.431288</td>\n    </tr>\n    <tr>\n      <th>1</th>\n      <td>82000.0</td>\n      <td>11.0</td>\n      <td>0.0</td>\n      <td>0.0</td>\n      <td>0.0</td>\n      <td>0.0</td>\n      <td>0.0</td>\n      <td>0.0</td>\n      <td>0.0</td>\n      <td>0.0</td>\n      <td>...</td>\n      <td>0.0</td>\n      <td>-0.176094</td>\n      <td>-0.117996</td>\n      <td>1.338130</td>\n      <td>1.059656</td>\n      <td>0.394280</td>\n      <td>-0.297370</td>\n      <td>-0.152619</td>\n      <td>-0.180040</td>\n      <td>-0.321841</td>\n    </tr>\n    <tr>\n      <th>2</th>\n      <td>135000.0</td>\n      <td>11.0</td>\n      <td>0.0</td>\n      <td>0.0</td>\n      <td>0.0</td>\n      <td>0.0</td>\n      <td>0.0</td>\n      <td>0.0</td>\n      <td>0.0</td>\n      <td>0.0</td>\n      <td>...</td>\n      <td>0.0</td>\n      <td>-0.176094</td>\n      <td>-0.019208</td>\n      <td>1.037031</td>\n      <td>0.699628</td>\n      <td>0.515962</td>\n      <td>-0.276447</td>\n      <td>-0.575084</td>\n      <td>0.264590</td>\n      <td>0.006501</td>\n    </tr>\n    <tr>\n      <th>3</th>\n      <td>84000.0</td>\n      <td>11.0</td>\n      <td>0.0</td>\n      <td>0.0</td>\n      <td>0.0</td>\n      <td>0.0</td>\n      <td>0.0</td>\n      <td>0.0</td>\n      <td>0.0</td>\n      <td>0.0</td>\n      <td>...</td>\n      <td>0.0</td>\n      <td>-0.176094</td>\n      <td>-0.118989</td>\n      <td>-0.468466</td>\n      <td>1.059656</td>\n      <td>0.394280</td>\n      <td>-0.255525</td>\n      <td>-0.152619</td>\n      <td>0.264590</td>\n      <td>-0.394806</td>\n    </tr>\n    <tr>\n      <th>4</th>\n      <td>60000.0</td>\n      <td>11.0</td>\n      <td>0.0</td>\n      <td>0.0</td>\n      <td>0.0</td>\n      <td>0.0</td>\n      <td>0.0</td>\n      <td>0.0</td>\n      <td>0.0</td>\n      <td>0.0</td>\n      <td>...</td>\n      <td>0.0</td>\n      <td>-1.135681</td>\n      <td>-0.095409</td>\n      <td>-1.070664</td>\n      <td>1.059656</td>\n      <td>0.394280</td>\n      <td>-0.778594</td>\n      <td>-0.152619</td>\n      <td>-0.180040</td>\n      <td>-0.796113</td>\n    </tr>\n    <tr>\n      <th>...</th>\n      <td>...</td>\n      <td>...</td>\n      <td>...</td>\n      <td>...</td>\n      <td>...</td>\n      <td>...</td>\n      <td>...</td>\n      <td>...</td>\n      <td>...</td>\n      <td>...</td>\n      <td>...</td>\n      <td>...</td>\n      <td>...</td>\n      <td>...</td>\n      <td>...</td>\n      <td>...</td>\n      <td>...</td>\n      <td>...</td>\n      <td>...</td>\n      <td>...</td>\n      <td>...</td>\n    </tr>\n    <tr>\n      <th>371</th>\n      <td>42900.0</td>\n      <td>18.0</td>\n      <td>0.0</td>\n      <td>1.0</td>\n      <td>0.0</td>\n      <td>0.0</td>\n      <td>0.0</td>\n      <td>0.0</td>\n      <td>0.0</td>\n      <td>0.0</td>\n      <td>...</td>\n      <td>0.0</td>\n      <td>-0.176094</td>\n      <td>-0.153118</td>\n      <td>-1.221214</td>\n      <td>-1.460538</td>\n      <td>0.394280</td>\n      <td>-0.736748</td>\n      <td>-0.434262</td>\n      <td>-0.180040</td>\n      <td>-0.796113</td>\n    </tr>\n    <tr>\n      <th>372</th>\n      <td>115000.0</td>\n      <td>0.0</td>\n      <td>0.0</td>\n      <td>0.0</td>\n      <td>0.0</td>\n      <td>0.0</td>\n      <td>0.0</td>\n      <td>0.0</td>\n      <td>0.0</td>\n      <td>0.0</td>\n      <td>...</td>\n      <td>0.0</td>\n      <td>-1.135681</td>\n      <td>0.047436</td>\n      <td>-1.070664</td>\n      <td>-1.220519</td>\n      <td>0.799887</td>\n      <td>-0.715825</td>\n      <td>-0.962343</td>\n      <td>0.598063</td>\n      <td>-0.467771</td>\n    </tr>\n    <tr>\n      <th>373</th>\n      <td>39000.0</td>\n      <td>11.0</td>\n      <td>0.0</td>\n      <td>0.0</td>\n      <td>1.0</td>\n      <td>0.0</td>\n      <td>0.0</td>\n      <td>0.0</td>\n      <td>0.0</td>\n      <td>0.0</td>\n      <td>...</td>\n      <td>0.0</td>\n      <td>-1.135681</td>\n      <td>-0.134626</td>\n      <td>-0.920115</td>\n      <td>-1.460538</td>\n      <td>-1.593194</td>\n      <td>-0.925053</td>\n      <td>-0.821522</td>\n      <td>-0.846984</td>\n      <td>-0.504253</td>\n    </tr>\n    <tr>\n      <th>374</th>\n      <td>115000.0</td>\n      <td>6.0</td>\n      <td>0.0</td>\n      <td>0.0</td>\n      <td>0.0</td>\n      <td>0.0</td>\n      <td>0.0</td>\n      <td>0.0</td>\n      <td>0.0</td>\n      <td>0.0</td>\n      <td>...</td>\n      <td>0.0</td>\n      <td>0.783492</td>\n      <td>-0.136115</td>\n      <td>0.585382</td>\n      <td>0.939647</td>\n      <td>0.191477</td>\n      <td>-0.192756</td>\n      <td>-0.152619</td>\n      <td>-0.180040</td>\n      <td>-0.139429</td>\n    </tr>\n    <tr>\n      <th>375</th>\n      <td>90005.0</td>\n      <td>20.0</td>\n      <td>0.0</td>\n      <td>0.0</td>\n      <td>0.0</td>\n      <td>0.0</td>\n      <td>0.0</td>\n      <td>0.0</td>\n      <td>0.0</td>\n      <td>0.0</td>\n      <td>...</td>\n      <td>0.0</td>\n      <td>-0.176094</td>\n      <td>-0.039313</td>\n      <td>-0.167366</td>\n      <td>-0.260446</td>\n      <td>0.394280</td>\n      <td>-0.653057</td>\n      <td>-0.856727</td>\n      <td>0.486905</td>\n      <td>-0.431288</td>\n    </tr>\n  </tbody>\n</table>\n<p>376 rows × 175 columns</p>\n</div>"
          },
          "metadata": {}
        }
      ],
      "id": "4ea575ba"
    },
    {
      "cell_type": "code",
      "source": "# Проінспектувати вихідний датасет `apartment_transformed`\nprint(\"Shape of a dataset: \", apartment_transformed.shape)",
      "metadata": {
        "hidden": true,
        "trusted": true
      },
      "execution_count": 27,
      "outputs": [
        {
          "name": "stdout",
          "text": "Shape of a dataset:  (376, 175)\n",
          "output_type": "stream"
        }
      ],
      "id": "392d36bf"
    },
    {
      "cell_type": "code",
      "source": "# зберегти підготовлений датасет в csv-файлі `apartment_transformed.csv`\napartment_transformed.to_csv('apartment_transformed.csv')",
      "metadata": {
        "hidden": true,
        "trusted": true
      },
      "execution_count": 28,
      "outputs": [],
      "id": "3fca0d30"
    },
    {
      "cell_type": "code",
      "source": "",
      "metadata": {},
      "execution_count": null,
      "outputs": [],
      "id": "0d3801fd-1cf9-43c5-b81c-08b6177bb51a"
    }
  ]
}