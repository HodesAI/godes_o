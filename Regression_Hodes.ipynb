{
  "metadata": {
    "varInspector": {
      "cols": {
        "lenName": 16,
        "lenType": 16,
        "lenVar": 40
      },
      "kernels_config": {
        "python": {
          "delete_cmd_postfix": "",
          "delete_cmd_prefix": "del ",
          "library": "var_list.py",
          "varRefreshCmd": "print(var_dic_list())"
        },
        "r": {
          "delete_cmd_postfix": ") ",
          "delete_cmd_prefix": "rm(",
          "library": "var_list.r",
          "varRefreshCmd": "cat(var_dic_list()) "
        }
      },
      "types_to_exclude": [
        "module",
        "function",
        "builtin_function_or_method",
        "instance",
        "_Feature"
      ],
      "window_display": false
    },
    "kernelspec": {
      "name": "python",
      "display_name": "Python (Pyodide)",
      "language": "python"
    },
    "language_info": {
      "codemirror_mode": {
        "name": "python",
        "version": 3
      },
      "file_extension": ".py",
      "mimetype": "text/x-python",
      "name": "python",
      "nbconvert_exporter": "python",
      "pygments_lexer": "ipython3",
      "version": "3.8"
    }
  },
  "nbformat_minor": 5,
  "nbformat": 4,
  "cells": [
    {
      "cell_type": "markdown",
      "source": "\n# ЛАБОРАТОРНА РОБОТА  \n\n## \"Лінійні та нелінійні регресійні моделі МН\"\n\n__Метою__ лабораторної роботи є набуття практичних навичок використання модулів бібліотеки `Scikit-learn` для вирішення наступних задач:\n\n- визначення суттєвих показчиків для регресійної моделі\n- пошук та настроювання гіперпараметрів лінійних та нелінійних регресійних моделей\n\n__Результатом__ виконання лабораторної роботи є серія моделей які прогнозують ціну кватрир на вторинному ринку житла",
      "metadata": {},
      "id": "6706f670"
    },
    {
      "cell_type": "code",
      "source": "import pandas as pd\nimport numpy as np\n\ndata = pd.read_csv('apartment_transformed.csv')\ndata.shape",
      "metadata": {
        "trusted": true
      },
      "execution_count": 1,
      "outputs": [
        {
          "execution_count": 1,
          "output_type": "execute_result",
          "data": {
            "text/plain": "(376, 176)"
          },
          "metadata": {}
        }
      ],
      "id": "bdfb6875"
    },
    {
      "cell_type": "code",
      "source": "# відокремити ціловий показчик 'price'\nprice = data.Price\n\n# зилишити в 'data' тільки незалежні показчики\ndata = data.drop(['Price'], axis=1)\n\ndata.shape, price.shape    # ((676, 301), (676,))",
      "metadata": {
        "trusted": true
      },
      "execution_count": 2,
      "outputs": [
        {
          "execution_count": 2,
          "output_type": "execute_result",
          "data": {
            "text/plain": "((376, 175), (376,))"
          },
          "metadata": {}
        }
      ],
      "id": "3d17c75b"
    },
    {
      "cell_type": "markdown",
      "source": "## 1. Пошук значущих ознак",
      "metadata": {},
      "id": "4b391a2e"
    },
    {
      "cell_type": "markdown",
      "source": "### Теоретичне введення",
      "metadata": {},
      "id": "27e655c1"
    },
    {
      "cell_type": "markdown",
      "source": "__Значущі (суттеві) ознаки__ це дані, які мають сильну кореляцію або вплив на результат або прогноз моделі.\n\nЦі позазчики визначаються за допомогою процесу, який називається __відбором ознак__ ([Feature selection](https://en.wikipedia.org/wiki/Feature_selection)), який передбачає _оцінку_ та _ранжування важливості_ різних змінних у наборі даних. Це можна зробити за дпомогою статистичних тестів, кореляційного аналізу або алгоритмів машинного навчання.\n\nПісля визначення значущих ознак їх можна використовувати для навчання моделі машинного навчання.\n\nЦе може бути особливо важливим у моделях, де дані складні та містять багато змінних. Тому ідентифікація  суттєвих ознак може допомогти зменшити розмірність даних і покращити продуктивність моделі.\n\nКласи в модулі [sklearn.feature_selection](https://scikit-learn.org/stable/modules/feature_selection.html) можна використовувати для вибору функцій/зменшення розмірності на вибіркових наборах або для покращення показників точності оцінювачів, або для підвищення їх продуктивності на масивах даних з дуже великою розмірністю.",
      "metadata": {},
      "id": "83fe0105"
    },
    {
      "cell_type": "markdown",
      "source": "### Завдання\n\nВідібрати з вхідного набору `data` 7 найбільш суттєвих показчиків для регрісійної моделі машинного навчання.",
      "metadata": {},
      "id": "ce8a207f"
    },
    {
      "cell_type": "code",
      "source": "# імпортувати з модуля 'feature_selection' селектор ознак 'SelectKBest' \n# та регрісійний тест 'f_regression'\nfrom sklearn.feature_selection import SelectKBest, f_regression",
      "metadata": {
        "trusted": true
      },
      "execution_count": 3,
      "outputs": [],
      "id": "3da76799"
    },
    {
      "cell_type": "code",
      "source": "# побудувати селектор 7 ознак на f-регресорі\nkbest_selector = SelectKBest(f_regression, k=7)\n\n# застосувати селектор для побудови списку ознак\ndata_selected = kbest_selector.fit_transform(data, price)",
      "metadata": {
        "scrolled": true,
        "trusted": true
      },
      "execution_count": 4,
      "outputs": [],
      "id": "443396fe"
    },
    {
      "cell_type": "code",
      "source": "# зберегти імена визначених селектором найбільш суттєвих ознак\nbest_features = kbest_selector.get_feature_names_out()",
      "metadata": {
        "trusted": true
      },
      "execution_count": 5,
      "outputs": [],
      "id": "74635da9"
    },
    {
      "cell_type": "code",
      "source": "# побудувати датафрейм на визначених ознаках\ndata = pd.DataFrame(data=data_selected)\ndata.columns = best_features\ndata.head()",
      "metadata": {
        "trusted": true
      },
      "execution_count": 6,
      "outputs": [
        {
          "execution_count": 6,
          "output_type": "execute_result",
          "data": {
            "text/plain": "   ohe_categirical_encoder__street_Мічуріна  \\\n0                                       0.0   \n1                                       0.0   \n2                                       0.0   \n3                                       0.0   \n4                                       0.0   \n\n   ohe_categirical_encoder__street_Саксаганського  numeric_encoder__rooms  \\\n0                                             0.0               -1.135681   \n1                                             0.0               -0.176094   \n2                                             0.0               -0.176094   \n3                                             0.0               -0.176094   \n4                                             0.0               -1.135681   \n\n   numeric_encoder__price_per_m2  numeric_encoder__area_total  \\\n0                      -0.139714                    -1.050589   \n1                      -0.117996                    -0.297370   \n2                      -0.019208                    -0.276447   \n3                      -0.118989                    -0.255525   \n4                      -0.095409                    -0.778594   \n\n   numeric_encoder__area_living  numeric_encoder__area_comfort  \n0                     -0.997549                      -0.431288  \n1                     -0.152619                      -0.321841  \n2                     -0.575084                       0.006501  \n3                     -0.152619                      -0.394806  \n4                     -0.152619                      -0.796113  ",
            "text/html": "<div>\n<style scoped>\n    .dataframe tbody tr th:only-of-type {\n        vertical-align: middle;\n    }\n\n    .dataframe tbody tr th {\n        vertical-align: top;\n    }\n\n    .dataframe thead th {\n        text-align: right;\n    }\n</style>\n<table border=\"1\" class=\"dataframe\">\n  <thead>\n    <tr style=\"text-align: right;\">\n      <th></th>\n      <th>ohe_categirical_encoder__street_Мічуріна</th>\n      <th>ohe_categirical_encoder__street_Саксаганського</th>\n      <th>numeric_encoder__rooms</th>\n      <th>numeric_encoder__price_per_m2</th>\n      <th>numeric_encoder__area_total</th>\n      <th>numeric_encoder__area_living</th>\n      <th>numeric_encoder__area_comfort</th>\n    </tr>\n  </thead>\n  <tbody>\n    <tr>\n      <th>0</th>\n      <td>0.0</td>\n      <td>0.0</td>\n      <td>-1.135681</td>\n      <td>-0.139714</td>\n      <td>-1.050589</td>\n      <td>-0.997549</td>\n      <td>-0.431288</td>\n    </tr>\n    <tr>\n      <th>1</th>\n      <td>0.0</td>\n      <td>0.0</td>\n      <td>-0.176094</td>\n      <td>-0.117996</td>\n      <td>-0.297370</td>\n      <td>-0.152619</td>\n      <td>-0.321841</td>\n    </tr>\n    <tr>\n      <th>2</th>\n      <td>0.0</td>\n      <td>0.0</td>\n      <td>-0.176094</td>\n      <td>-0.019208</td>\n      <td>-0.276447</td>\n      <td>-0.575084</td>\n      <td>0.006501</td>\n    </tr>\n    <tr>\n      <th>3</th>\n      <td>0.0</td>\n      <td>0.0</td>\n      <td>-0.176094</td>\n      <td>-0.118989</td>\n      <td>-0.255525</td>\n      <td>-0.152619</td>\n      <td>-0.394806</td>\n    </tr>\n    <tr>\n      <th>4</th>\n      <td>0.0</td>\n      <td>0.0</td>\n      <td>-1.135681</td>\n      <td>-0.095409</td>\n      <td>-0.778594</td>\n      <td>-0.152619</td>\n      <td>-0.796113</td>\n    </tr>\n  </tbody>\n</table>\n</div>"
          },
          "metadata": {}
        }
      ],
      "id": "c8761bcd"
    },
    {
      "cell_type": "markdown",
      "source": "### Висновки\n\n_описати загальну статистичну характеристику отриманого датасети та зробити висновки щодо можливості його використання для подальшого аналізу_\n\nОтриманий датасет містить 7 найбільш суттєвих колонок(ознак). Такий датасет дозволить запобігти перенавчанню моделей, що могло статися при використанні усіх ознак з початкового датасету.",
      "metadata": {},
      "id": "949c8685"
    },
    {
      "cell_type": "markdown",
      "source": "## 2. Множинна лінійна регресія",
      "metadata": {},
      "id": "4ce163fc"
    },
    {
      "cell_type": "markdown",
      "source": "### Теоретичне введення",
      "metadata": {},
      "id": "6c4205a3"
    },
    {
      "cell_type": "markdown",
      "source": "__Множинна лінійна регресія__ — це статистичний метод, який використовується для встановлення зв’язку між _залежною_ (цільвою) змінною $\\textbf y$ та _кількома_ незалежними змінними $\\textbf [X]$.  \n\n__Метою__ множинної лінійної регресії є знаходження найкращого лінійного зв’язку між залежною змінною та незалежними змінними, який виражається у вигляді рівняння:\n$$y = b_0 + b_1 x_1 + b_2 x_2 + ... + b_n x_n$$\n\nНайкращій зв'язок забезпечується знаходженням таких коєфіцієнтів $[B]$, що додають мінімум обраній метриці (MSE, MAE, ...)",
      "metadata": {},
      "id": "24b4dc56"
    },
    {
      "cell_type": "markdown",
      "source": "### Завдання\n\n\nПорахувати показчики якості моделі [лінйной множинної регресії](https://uk.mcfairbanks.com/719-multiple-regression-formula) на визначениx п.1 значущих ознаках датасету застосувавши [кросс-валідацію з __10__ сплітами](https://scikit-learn.org/stable/modules/cross_validation.html).",
      "metadata": {},
      "id": "bb6eda7e"
    },
    {
      "cell_type": "code",
      "source": "# імпортувати та побудувати лінійний регресор з параметрами за замовчанням\nfrom sklearn.linear_model import LinearRegression\nlr = LinearRegression()",
      "metadata": {
        "trusted": true
      },
      "execution_count": 7,
      "outputs": [],
      "id": "7ff83f4d"
    },
    {
      "cell_type": "code",
      "source": "# імпортувати крос-валідатор 'cross_validate' з модуля 'model_selection'\nfrom sklearn.model_selection import cross_validate, KFold",
      "metadata": {
        "trusted": true
      },
      "execution_count": 8,
      "outputs": [],
      "id": "5bef1de0"
    },
    {
      "cell_type": "code",
      "source": "# отримати результати крос-валідації по параметрам 'neg_mean_absolute_percentage_error' \n# та 'r2' на 10 сплітах передбачивши розрахунок на навчальному наборі 'return_train_score'\ncv_results_mul = cross_validate(lr, data, price,\n                                scoring=['neg_mean_absolute_percentage_error', 'r2'],\n                                cv=KFold(n_splits=10, shuffle=True), return_train_score=True)",
      "metadata": {
        "trusted": true
      },
      "execution_count": 9,
      "outputs": [],
      "id": "d24b7e36"
    },
    {
      "cell_type": "markdown",
      "source": "#### занести результати в датафрейм 'cv_results_mul ' наступного вигляду:\n\n------------\n\n|помилка тесту в %   |коєф. R2 тесту  | помилка навчання в %  | коєф. R2 навчання  |\n| :------------:|:------------:|:------------:|:------------:|\n|  xx.xx | xx.xx  | xx.xx  | xx.xx  |\n|  xx.xx | xx.xx  | xx.xx  | xx.xx  |\n|  ... | ...  | ...  | ...  |\n",
      "metadata": {},
      "id": "0b944d08"
    },
    {
      "cell_type": "code",
      "source": "cv_results_mul = pd.DataFrame({\n    'помилка тесту в %': cv_results_mul['test_neg_mean_absolute_percentage_error'],\n    'коеф. R2 тесту': cv_results_mul['test_r2'],\n    'помилка навчання в %': cv_results_mul['train_neg_mean_absolute_percentage_error'],\n    'коеф. R2 навчання': cv_results_mul['train_r2']\n})\ncv_results_mul.head()",
      "metadata": {
        "scrolled": true,
        "trusted": true
      },
      "execution_count": 10,
      "outputs": [
        {
          "execution_count": 10,
          "output_type": "execute_result",
          "data": {
            "text/plain": "   помилка тесту в %  коеф. R2 тесту  помилка навчання в %  коеф. R2 навчання\n0          -0.381270        0.677765             -0.304725           0.994666\n1          -0.500728        0.579671             -0.442997           0.988139\n2          -0.371439        0.769507             -0.465052           0.986183\n3          -0.444636        0.856462             -0.431125           0.986634\n4          -0.459122        0.551667             -0.462941           0.986782",
            "text/html": "<div>\n<style scoped>\n    .dataframe tbody tr th:only-of-type {\n        vertical-align: middle;\n    }\n\n    .dataframe tbody tr th {\n        vertical-align: top;\n    }\n\n    .dataframe thead th {\n        text-align: right;\n    }\n</style>\n<table border=\"1\" class=\"dataframe\">\n  <thead>\n    <tr style=\"text-align: right;\">\n      <th></th>\n      <th>помилка тесту в %</th>\n      <th>коеф. R2 тесту</th>\n      <th>помилка навчання в %</th>\n      <th>коеф. R2 навчання</th>\n    </tr>\n  </thead>\n  <tbody>\n    <tr>\n      <th>0</th>\n      <td>-0.381270</td>\n      <td>0.677765</td>\n      <td>-0.304725</td>\n      <td>0.994666</td>\n    </tr>\n    <tr>\n      <th>1</th>\n      <td>-0.500728</td>\n      <td>0.579671</td>\n      <td>-0.442997</td>\n      <td>0.988139</td>\n    </tr>\n    <tr>\n      <th>2</th>\n      <td>-0.371439</td>\n      <td>0.769507</td>\n      <td>-0.465052</td>\n      <td>0.986183</td>\n    </tr>\n    <tr>\n      <th>3</th>\n      <td>-0.444636</td>\n      <td>0.856462</td>\n      <td>-0.431125</td>\n      <td>0.986634</td>\n    </tr>\n    <tr>\n      <th>4</th>\n      <td>-0.459122</td>\n      <td>0.551667</td>\n      <td>-0.462941</td>\n      <td>0.986782</td>\n    </tr>\n  </tbody>\n</table>\n</div>"
          },
          "metadata": {}
        }
      ],
      "id": "f11ec7b5"
    },
    {
      "cell_type": "code",
      "source": "# продовжити наступні команди виводу:\nprint (\"середня помилка навчання = \", np.mean(cv_results_mul['помилка навчання в %']))\nprint (\"середня помилка тесту = \", np.mean(cv_results_mul['помилка тесту в %']))",
      "metadata": {
        "trusted": true
      },
      "execution_count": 11,
      "outputs": [
        {
          "name": "stdout",
          "text": "середня помилка навчання =  -0.43430899431877484\nсередня помилка тесту =  -0.44193916015487644\n",
          "output_type": "stream"
        }
      ],
      "id": "de859c53"
    },
    {
      "cell_type": "markdown",
      "source": "### Висновки\n\n_зпираючись на отримані метрики якості зробити висновок про придатність моделі, недонавчана чи перенавчана вона і т.п._",
      "metadata": {},
      "id": "63800fff"
    },
    {
      "cell_type": "markdown",
      "source": "## 3. Гребнева (Ridge) регресія",
      "metadata": {},
      "id": "b034005f"
    },
    {
      "cell_type": "markdown",
      "source": "### Теоретичне введення",
      "metadata": {
        "heading_collapsed": true
      },
      "id": "206d4b9b"
    },
    {
      "cell_type": "markdown",
      "source": "__Гребнева регресія__ — це техніка регулярізації, яка використовується в машинному навчанні для запобігання перенавчанню лінійних регресійних моделей за рахунок додавання штрафу до функції втрат регресійної моделі, яка зменшує величину коефіцієнтів до нуля.\n\n$$\\min_w\\sum_{i=1}^n(y_i - x_i^w)^2 + \\lambda|w|_2^2$$\n\nРозмір штрафу визначається [нормою L2](https://craftappmobile.com/l1-vs-l2-regularization/) вектора коефіцієнтів, помноженою на гіперпараметр $\\large \\lambda$.\n\n\n",
      "metadata": {
        "hidden": true
      },
      "id": "efada9e6"
    },
    {
      "cell_type": "markdown",
      "source": "### Завдання\n\nПобудувати модель на основі `ridge-регресії` та за допомогою [GridSearchCV](https://scikit-learn.org/stable/modules/generated/sklearn.model_selection.GridSearchCV.html) знайти таке значення _L2-регулярізатора_, яке буде\nмінізувати обрані метрики якості моделі.\nДля побудови моделі скоистатися датасетом, що отримано в  __завданні 1__ лабораторної роботи\n",
      "metadata": {},
      "id": "779e5d1a"
    },
    {
      "cell_type": "code",
      "source": "# імпортувати ridge-регресор з модуля `sklearn.linear_model`\nfrom sklearn.linear_model import Ridge\n\n# побудувати регресор\nridge = Ridge(random_state=2, fit_intercept=False)",
      "metadata": {
        "trusted": true
      },
      "execution_count": 12,
      "outputs": [],
      "id": "ede2330d"
    },
    {
      "cell_type": "code",
      "source": "# імпортувати сітку пошуку `GridSearchCV` з модулю sklearn.model_selection\nfrom sklearn.model_selection import GridSearchCV\n\n# визначити параметр равномірного пошуку 100 значень параметеру `alpha` в диапазоні 0-100000 \ngrid_params = {\n    'alpha': np.arange(0, 100000, 1000),\n    'max_iter': [1500, 3000],\n}",
      "metadata": {
        "trusted": true
      },
      "execution_count": 13,
      "outputs": [],
      "id": "d716b997"
    },
    {
      "cell_type": "code",
      "source": "%%time\n\n# побудувати та натренувати гребневу регресійну модель на сітці 'grid_params'\n# в якості критерія оцінки якості взяти метрику `neg_mean_absolute_percentage_error`\n\n# створюємо сітку пошуку та тренуємо на ній модель\ngrid_search_model = GridSearchCV(ridge, param_grid=grid_params, cv=10,\n                                 scoring='neg_mean_absolute_percentage_error')\n\ngrid_search_model.fit(data, price)",
      "metadata": {
        "scrolled": true,
        "trusted": true
      },
      "execution_count": 14,
      "outputs": [
        {
          "name": "stdout",
          "text": "CPU times: user 0 ns, sys: 0 ns, total: 0 ns\nWall time: 10.3 s\n",
          "output_type": "stream"
        },
        {
          "execution_count": 14,
          "output_type": "execute_result",
          "data": {
            "text/plain": "GridSearchCV(cv=10, estimator=Ridge(fit_intercept=False, random_state=2),\n             param_grid={'alpha': array([    0,  1000,  2000,  3000,  4000,  5000,  6000,  7000,  8000,\n        9000, 10000, 11000, 12000, 13000, 14000, 15000, 16000, 17000,\n       18000, 19000, 20000, 21000, 22000, 23000, 24000, 25000, 26000,\n       27000, 28000, 29000, 30000, 31000, 32000, 33000, 34000, 35000,\n       36000, 37000, 38000, 39000, 40000, 41000, 42000, 43000, 4...\n       45000, 46000, 47000, 48000, 49000, 50000, 51000, 52000, 53000,\n       54000, 55000, 56000, 57000, 58000, 59000, 60000, 61000, 62000,\n       63000, 64000, 65000, 66000, 67000, 68000, 69000, 70000, 71000,\n       72000, 73000, 74000, 75000, 76000, 77000, 78000, 79000, 80000,\n       81000, 82000, 83000, 84000, 85000, 86000, 87000, 88000, 89000,\n       90000, 91000, 92000, 93000, 94000, 95000, 96000, 97000, 98000,\n       99000]),\n                         'max_iter': [1500, 3000]},\n             scoring='neg_mean_absolute_percentage_error')",
            "text/html": "<style>#sk-container-id-1 {color: black;background-color: white;}#sk-container-id-1 pre{padding: 0;}#sk-container-id-1 div.sk-toggleable {background-color: white;}#sk-container-id-1 label.sk-toggleable__label {cursor: pointer;display: block;width: 100%;margin-bottom: 0;padding: 0.3em;box-sizing: border-box;text-align: center;}#sk-container-id-1 label.sk-toggleable__label-arrow:before {content: \"▸\";float: left;margin-right: 0.25em;color: #696969;}#sk-container-id-1 label.sk-toggleable__label-arrow:hover:before {color: black;}#sk-container-id-1 div.sk-estimator:hover label.sk-toggleable__label-arrow:before {color: black;}#sk-container-id-1 div.sk-toggleable__content {max-height: 0;max-width: 0;overflow: hidden;text-align: left;background-color: #f0f8ff;}#sk-container-id-1 div.sk-toggleable__content pre {margin: 0.2em;color: black;border-radius: 0.25em;background-color: #f0f8ff;}#sk-container-id-1 input.sk-toggleable__control:checked~div.sk-toggleable__content {max-height: 200px;max-width: 100%;overflow: auto;}#sk-container-id-1 input.sk-toggleable__control:checked~label.sk-toggleable__label-arrow:before {content: \"▾\";}#sk-container-id-1 div.sk-estimator input.sk-toggleable__control:checked~label.sk-toggleable__label {background-color: #d4ebff;}#sk-container-id-1 div.sk-label input.sk-toggleable__control:checked~label.sk-toggleable__label {background-color: #d4ebff;}#sk-container-id-1 input.sk-hidden--visually {border: 0;clip: rect(1px 1px 1px 1px);clip: rect(1px, 1px, 1px, 1px);height: 1px;margin: -1px;overflow: hidden;padding: 0;position: absolute;width: 1px;}#sk-container-id-1 div.sk-estimator {font-family: monospace;background-color: #f0f8ff;border: 1px dotted black;border-radius: 0.25em;box-sizing: border-box;margin-bottom: 0.5em;}#sk-container-id-1 div.sk-estimator:hover {background-color: #d4ebff;}#sk-container-id-1 div.sk-parallel-item::after {content: \"\";width: 100%;border-bottom: 1px solid gray;flex-grow: 1;}#sk-container-id-1 div.sk-label:hover label.sk-toggleable__label {background-color: #d4ebff;}#sk-container-id-1 div.sk-serial::before {content: \"\";position: absolute;border-left: 1px solid gray;box-sizing: border-box;top: 0;bottom: 0;left: 50%;z-index: 0;}#sk-container-id-1 div.sk-serial {display: flex;flex-direction: column;align-items: center;background-color: white;padding-right: 0.2em;padding-left: 0.2em;position: relative;}#sk-container-id-1 div.sk-item {position: relative;z-index: 1;}#sk-container-id-1 div.sk-parallel {display: flex;align-items: stretch;justify-content: center;background-color: white;position: relative;}#sk-container-id-1 div.sk-item::before, #sk-container-id-1 div.sk-parallel-item::before {content: \"\";position: absolute;border-left: 1px solid gray;box-sizing: border-box;top: 0;bottom: 0;left: 50%;z-index: -1;}#sk-container-id-1 div.sk-parallel-item {display: flex;flex-direction: column;z-index: 1;position: relative;background-color: white;}#sk-container-id-1 div.sk-parallel-item:first-child::after {align-self: flex-end;width: 50%;}#sk-container-id-1 div.sk-parallel-item:last-child::after {align-self: flex-start;width: 50%;}#sk-container-id-1 div.sk-parallel-item:only-child::after {width: 0;}#sk-container-id-1 div.sk-dashed-wrapped {border: 1px dashed gray;margin: 0 0.4em 0.5em 0.4em;box-sizing: border-box;padding-bottom: 0.4em;background-color: white;}#sk-container-id-1 div.sk-label label {font-family: monospace;font-weight: bold;display: inline-block;line-height: 1.2em;}#sk-container-id-1 div.sk-label-container {text-align: center;}#sk-container-id-1 div.sk-container {/* jupyter's `normalize.less` sets `[hidden] { display: none; }` but bootstrap.min.css set `[hidden] { display: none !important; }` so we also need the `!important` here to be able to override the default hidden behavior on the sphinx rendered scikit-learn.org. See: https://github.com/scikit-learn/scikit-learn/issues/21755 */display: inline-block !important;position: relative;}#sk-container-id-1 div.sk-text-repr-fallback {display: none;}</style><div id=\"sk-container-id-1\" class=\"sk-top-container\"><div class=\"sk-text-repr-fallback\"><pre>GridSearchCV(cv=10, estimator=Ridge(fit_intercept=False, random_state=2),\n             param_grid={&#x27;alpha&#x27;: array([    0,  1000,  2000,  3000,  4000,  5000,  6000,  7000,  8000,\n        9000, 10000, 11000, 12000, 13000, 14000, 15000, 16000, 17000,\n       18000, 19000, 20000, 21000, 22000, 23000, 24000, 25000, 26000,\n       27000, 28000, 29000, 30000, 31000, 32000, 33000, 34000, 35000,\n       36000, 37000, 38000, 39000, 40000, 41000, 42000, 43000, 4...\n       45000, 46000, 47000, 48000, 49000, 50000, 51000, 52000, 53000,\n       54000, 55000, 56000, 57000, 58000, 59000, 60000, 61000, 62000,\n       63000, 64000, 65000, 66000, 67000, 68000, 69000, 70000, 71000,\n       72000, 73000, 74000, 75000, 76000, 77000, 78000, 79000, 80000,\n       81000, 82000, 83000, 84000, 85000, 86000, 87000, 88000, 89000,\n       90000, 91000, 92000, 93000, 94000, 95000, 96000, 97000, 98000,\n       99000]),\n                         &#x27;max_iter&#x27;: [1500, 3000]},\n             scoring=&#x27;neg_mean_absolute_percentage_error&#x27;)</pre><b>In a Jupyter environment, please rerun this cell to show the HTML representation or trust the notebook. <br />On GitHub, the HTML representation is unable to render, please try loading this page with nbviewer.org.</b></div><div class=\"sk-container\" hidden><div class=\"sk-item sk-dashed-wrapped\"><div class=\"sk-label-container\"><div class=\"sk-label sk-toggleable\"><input class=\"sk-toggleable__control sk-hidden--visually\" id=\"sk-estimator-id-1\" type=\"checkbox\" ><label for=\"sk-estimator-id-1\" class=\"sk-toggleable__label sk-toggleable__label-arrow\">GridSearchCV</label><div class=\"sk-toggleable__content\"><pre>GridSearchCV(cv=10, estimator=Ridge(fit_intercept=False, random_state=2),\n             param_grid={&#x27;alpha&#x27;: array([    0,  1000,  2000,  3000,  4000,  5000,  6000,  7000,  8000,\n        9000, 10000, 11000, 12000, 13000, 14000, 15000, 16000, 17000,\n       18000, 19000, 20000, 21000, 22000, 23000, 24000, 25000, 26000,\n       27000, 28000, 29000, 30000, 31000, 32000, 33000, 34000, 35000,\n       36000, 37000, 38000, 39000, 40000, 41000, 42000, 43000, 4...\n       45000, 46000, 47000, 48000, 49000, 50000, 51000, 52000, 53000,\n       54000, 55000, 56000, 57000, 58000, 59000, 60000, 61000, 62000,\n       63000, 64000, 65000, 66000, 67000, 68000, 69000, 70000, 71000,\n       72000, 73000, 74000, 75000, 76000, 77000, 78000, 79000, 80000,\n       81000, 82000, 83000, 84000, 85000, 86000, 87000, 88000, 89000,\n       90000, 91000, 92000, 93000, 94000, 95000, 96000, 97000, 98000,\n       99000]),\n                         &#x27;max_iter&#x27;: [1500, 3000]},\n             scoring=&#x27;neg_mean_absolute_percentage_error&#x27;)</pre></div></div></div><div class=\"sk-parallel\"><div class=\"sk-parallel-item\"><div class=\"sk-item\"><div class=\"sk-label-container\"><div class=\"sk-label sk-toggleable\"><input class=\"sk-toggleable__control sk-hidden--visually\" id=\"sk-estimator-id-2\" type=\"checkbox\" ><label for=\"sk-estimator-id-2\" class=\"sk-toggleable__label sk-toggleable__label-arrow\">estimator: Ridge</label><div class=\"sk-toggleable__content\"><pre>Ridge(fit_intercept=False, random_state=2)</pre></div></div></div><div class=\"sk-serial\"><div class=\"sk-item\"><div class=\"sk-estimator sk-toggleable\"><input class=\"sk-toggleable__control sk-hidden--visually\" id=\"sk-estimator-id-3\" type=\"checkbox\" ><label for=\"sk-estimator-id-3\" class=\"sk-toggleable__label sk-toggleable__label-arrow\">Ridge</label><div class=\"sk-toggleable__content\"><pre>Ridge(fit_intercept=False, random_state=2)</pre></div></div></div></div></div></div></div></div></div></div>"
          },
          "metadata": {}
        }
      ],
      "id": "622b3635"
    },
    {
      "cell_type": "code",
      "source": "# вивести найкращій естіматор (best_estimator_), та найкраще значення обраної метрики (best_score_)\ngrid_search_model.best_estimator_, grid_search_model.best_score_",
      "metadata": {
        "trusted": true
      },
      "execution_count": 15,
      "outputs": [
        {
          "execution_count": 15,
          "output_type": "execute_result",
          "data": {
            "text/plain": "(Ridge(alpha=99000, fit_intercept=False, max_iter=1500, random_state=2),\n -1.011978280681753)"
          },
          "metadata": {}
        }
      ],
      "id": "a06ea03d"
    },
    {
      "cell_type": "markdown",
      "source": "### Висновки\n\n_cпираючись на отримані метрики якості зробити висновок про придатність моделі, недонавчана чи перенавчана вона і т.п._",
      "metadata": {},
      "id": "2c6b8083"
    },
    {
      "cell_type": "markdown",
      "source": "## 3. Поліноміальна регресія",
      "metadata": {},
      "id": "d2792628"
    },
    {
      "cell_type": "markdown",
      "source": "### Теоретичне введення",
      "metadata": {},
      "id": "075bd403"
    },
    {
      "cell_type": "markdown",
      "source": "__Поліноміальна регресія__ — це тип нелінійної регресії, у якому зв’язок між незалежною змінною $\\large x$ і залежною змінною $\\large y$ моделюється як поліноміальна функція n-го ступеня:\n\n$$ y = \\beta_0 + \\beta_1 x + \\beta_2 x^2 + \\beta_3 x^3 + \\cdots + \\beta_n x^n + \\varepsilon $$\n\n__Метою__ поліноміальної регресії є знаходження значень коефіцієнтів $ β_i$, які найкраще відповідають даним.",
      "metadata": {},
      "id": "512d140f"
    },
    {
      "cell_type": "markdown",
      "source": "### Завдання\n\n\nПорахувати показчики якості моделі на [поліноміальній регресії](https://uk.wikipedia.org/wiki/Поліноміальна_регресія) на визначених в п.1 значущих ознаках датасету, попередньо розширивши датасет за допомогою трансформера [PolynomialFeatures](https://scikit-learn.org/stable/modules/generated/sklearn.preprocessing.PolynomialFeatures.html)",
      "metadata": {},
      "id": "f17ee202"
    },
    {
      "cell_type": "code",
      "source": "# імпортувати модуль preprocessing.PolynomialFeatures\nfrom sklearn.preprocessing import PolynomialFeatures\n\n# побудувати трансформер ступеня 2 для побудови додаткових ознак в датасеті\npoly = PolynomialFeatures(degree=2)\npoly_df = poly.fit_transform(data, price)",
      "metadata": {
        "scrolled": true,
        "trusted": true
      },
      "execution_count": 16,
      "outputs": [],
      "id": "d60b613c"
    },
    {
      "cell_type": "code",
      "source": "# визначити імена відібраних показчиків\npoly_features_names = poly.get_feature_names_out()",
      "metadata": {
        "trusted": true
      },
      "execution_count": 17,
      "outputs": [],
      "id": "435dd363"
    },
    {
      "cell_type": "code",
      "source": "# побудувати датасет на визначеному поліномі `poly`\ndata_poly = pd.DataFrame(poly_df)\ndata_poly.columns=poly_features_names\ndata_poly.shape",
      "metadata": {
        "trusted": true
      },
      "execution_count": 18,
      "outputs": [
        {
          "execution_count": 18,
          "output_type": "execute_result",
          "data": {
            "text/plain": "(376, 36)"
          },
          "metadata": {}
        }
      ],
      "id": "128e08be"
    },
    {
      "cell_type": "code",
      "source": "# отримати результати крос-валідації на множинном регресорі `lr` по параметрам 'neg_mean_absolute_percentage_error' \n# та 'r2' на 10 сплітах передбачивши розрахунок на навчальному наборі 'return_train_score'\ncv_results_poly = cross_validate(lr, data_poly, price,\n                                 scoring=['neg_mean_absolute_percentage_error', 'r2'],\n                                 cv=KFold(n_splits=10, shuffle=True), return_train_score=True)",
      "metadata": {
        "trusted": true
      },
      "execution_count": 19,
      "outputs": [],
      "id": "f1b7d2f9"
    },
    {
      "cell_type": "code",
      "source": "# занести результати крос-валідації: помилка тесту, помилка навчання та відповідні коефіцієнти \n# детермінаційї в датафрейм `cv_results_poly`. \ncv_results_poly = cv_results_mul = pd.DataFrame({\n    'помилка тесту в %': cv_results_poly['test_neg_mean_absolute_percentage_error'],\n    'коеф. R2 тесту': cv_results_poly['test_r2'],\n    'помилка навчання в %': cv_results_poly['train_neg_mean_absolute_percentage_error'],\n    'коеф. R2 навчання': cv_results_poly['train_r2']\n})\n\ncv_results_poly.head()",
      "metadata": {
        "trusted": true
      },
      "execution_count": 20,
      "outputs": [
        {
          "execution_count": 20,
          "output_type": "execute_result",
          "data": {
            "text/plain": "   помилка тесту в %  коеф. R2 тесту  помилка навчання в %  коеф. R2 навчання\n0      -1.201199e-01    6.218861e-01             -0.077170           0.999547\n1      -1.266887e-01    9.877676e-01             -0.081267           0.997612\n2      -9.534936e-02    9.600573e-01             -0.092540           0.997490\n3      -5.862347e-02    9.921817e-01             -0.091148           0.997480\n4      -7.341466e+08   -2.768136e+20             -0.087972           0.962104",
            "text/html": "<div>\n<style scoped>\n    .dataframe tbody tr th:only-of-type {\n        vertical-align: middle;\n    }\n\n    .dataframe tbody tr th {\n        vertical-align: top;\n    }\n\n    .dataframe thead th {\n        text-align: right;\n    }\n</style>\n<table border=\"1\" class=\"dataframe\">\n  <thead>\n    <tr style=\"text-align: right;\">\n      <th></th>\n      <th>помилка тесту в %</th>\n      <th>коеф. R2 тесту</th>\n      <th>помилка навчання в %</th>\n      <th>коеф. R2 навчання</th>\n    </tr>\n  </thead>\n  <tbody>\n    <tr>\n      <th>0</th>\n      <td>-1.201199e-01</td>\n      <td>6.218861e-01</td>\n      <td>-0.077170</td>\n      <td>0.999547</td>\n    </tr>\n    <tr>\n      <th>1</th>\n      <td>-1.266887e-01</td>\n      <td>9.877676e-01</td>\n      <td>-0.081267</td>\n      <td>0.997612</td>\n    </tr>\n    <tr>\n      <th>2</th>\n      <td>-9.534936e-02</td>\n      <td>9.600573e-01</td>\n      <td>-0.092540</td>\n      <td>0.997490</td>\n    </tr>\n    <tr>\n      <th>3</th>\n      <td>-5.862347e-02</td>\n      <td>9.921817e-01</td>\n      <td>-0.091148</td>\n      <td>0.997480</td>\n    </tr>\n    <tr>\n      <th>4</th>\n      <td>-7.341466e+08</td>\n      <td>-2.768136e+20</td>\n      <td>-0.087972</td>\n      <td>0.962104</td>\n    </tr>\n  </tbody>\n</table>\n</div>"
          },
          "metadata": {}
        }
      ],
      "id": "02761153"
    },
    {
      "cell_type": "code",
      "source": "# за допомогою крос-валідатора 'cross_val_predict' побудувати прогноз 'price_pred' \n# на лінійному регресорі на 10 сплітах\nfrom sklearn.model_selection import cross_val_predict\n\nprice_pred = cross_val_predict(lr, data_poly, price, cv=10)",
      "metadata": {
        "trusted": true
      },
      "execution_count": null,
      "outputs": [
        {
          "ename": "<class 'NameError'>",
          "evalue": "name 'lr' is not defined",
          "traceback": [
            "\u001b[0;31m---------------------------------------------------------------------------\u001b[0m",
            "\u001b[0;31mNameError\u001b[0m                                 Traceback (most recent call last)",
            "Cell \u001b[0;32mIn[3], line 5\u001b[0m\n\u001b[1;32m      1\u001b[0m \u001b[38;5;66;03m# за допомогою крос-валідатора 'cross_val_predict' побудувати прогноз 'price_pred' \u001b[39;00m\n\u001b[1;32m      2\u001b[0m \u001b[38;5;66;03m# на лінійному регресорі на 10 сплітах\u001b[39;00m\n\u001b[1;32m      3\u001b[0m \u001b[38;5;28;01mfrom\u001b[39;00m \u001b[38;5;21;01msklearn\u001b[39;00m\u001b[38;5;21;01m.\u001b[39;00m\u001b[38;5;21;01mmodel_selection\u001b[39;00m \u001b[38;5;28;01mimport\u001b[39;00m cross_val_predict\n\u001b[0;32m----> 5\u001b[0m price_pred \u001b[38;5;241m=\u001b[39m cross_val_predict(\u001b[43mlr\u001b[49m, data_poly, price, cv\u001b[38;5;241m=\u001b[39m\u001b[38;5;241m10\u001b[39m)\n",
            "\u001b[0;31mNameError\u001b[0m: name 'lr' is not defined"
          ],
          "output_type": "error"
        }
      ],
      "id": "e952830a"
    },
    {
      "cell_type": "code",
      "source": "# вивести порівняльну таблицю з двох колонок: ціна реальна, ціна прогнозна\npred = pd.DataFrame({'ціна реальна': price,\n                     'ціна прогнозна': np.round(price_pred)})\npred.head(5)",
      "metadata": {
        "trusted": true
      },
      "execution_count": 2,
      "outputs": [
        {
          "ename": "<class 'NameError'>",
          "evalue": "name 'pd' is not defined",
          "traceback": [
            "\u001b[0;31m---------------------------------------------------------------------------\u001b[0m",
            "\u001b[0;31mNameError\u001b[0m                                 Traceback (most recent call last)",
            "Cell \u001b[0;32mIn[2], line 2\u001b[0m\n\u001b[1;32m      1\u001b[0m \u001b[38;5;66;03m# вивести порівняльну таблицю з двох колонок: ціна реальна, ціна прогнозна\u001b[39;00m\n\u001b[0;32m----> 2\u001b[0m pred \u001b[38;5;241m=\u001b[39m \u001b[43mpd\u001b[49m\u001b[38;5;241m.\u001b[39mDataFrame({\u001b[38;5;124m'\u001b[39m\u001b[38;5;124mціна реальна\u001b[39m\u001b[38;5;124m'\u001b[39m: price,\n\u001b[1;32m      3\u001b[0m                      \u001b[38;5;124m'\u001b[39m\u001b[38;5;124mціна прогнозна\u001b[39m\u001b[38;5;124m'\u001b[39m: np\u001b[38;5;241m.\u001b[39mround(price_pred)})\n\u001b[1;32m      4\u001b[0m pred\u001b[38;5;241m.\u001b[39mhead(\u001b[38;5;241m5\u001b[39m)\n",
            "\u001b[0;31mNameError\u001b[0m: name 'pd' is not defined"
          ],
          "output_type": "error"
        }
      ],
      "id": "ddc4e7e8"
    },
    {
      "cell_type": "code",
      "source": "# натренувати регресор `lr` на поліноміальних ознаках `data_poly`\nlr.fit(data_poly, price)",
      "metadata": {
        "trusted": true
      },
      "execution_count": null,
      "outputs": [],
      "id": "b6da2c2a"
    },
    {
      "cell_type": "code",
      "source": "# сформувати таблицю коєфіцієнтів поліному\ncoef = pd.DataFrame({'Ознаки': poly_features_names,\n                     'коеф.регресора': lr.coef_.astype('int')})",
      "metadata": {
        "trusted": true
      },
      "execution_count": null,
      "outputs": [],
      "id": "a9e3c1b8"
    },
    {
      "cell_type": "markdown",
      "source": "### Висновки\n\n_Базуючись на значенях метрик абсолютної помилки та r2-оцінки, сформулювати вашу думку чи відповідає поліноміальна модель вимогам якості та дати характеристику декільком коефіцієнтам (3-4) на свій вибір._ \n\n...",
      "metadata": {},
      "id": "815a5d54"
    },
    {
      "cell_type": "markdown",
      "source": "## 5. Зберігання побудованх моделей",
      "metadata": {},
      "id": "29f6d1f5"
    },
    {
      "cell_type": "code",
      "source": "# зберегти лінийну, гребневу та поліноміальну моделі у відпрвідних pickle-файлах:\n# 'lin_model.pkl', 'ridge_model.pkl', 'poly_model.pkl'\n\nimport pickle\n\nmodel_names = ['lin_model.pkl', 'ridge_model.pkl', 'poly_model.pkl']\nmodels = [lr, ridge, poly]\n\nfor i in range(len(model_names)):\n    with open(model_names[i], 'wb') as f:\n        pickle.dump(models[i], f)",
      "metadata": {
        "trusted": true
      },
      "execution_count": 1,
      "outputs": [
        {
          "ename": "<class 'NameError'>",
          "evalue": "name 'lr' is not defined",
          "traceback": [
            "\u001b[0;31m---------------------------------------------------------------------------\u001b[0m",
            "\u001b[0;31mNameError\u001b[0m                                 Traceback (most recent call last)",
            "Cell \u001b[0;32mIn[1], line 7\u001b[0m\n\u001b[1;32m      4\u001b[0m \u001b[38;5;28;01mimport\u001b[39;00m \u001b[38;5;21;01mpickle\u001b[39;00m\n\u001b[1;32m      6\u001b[0m model_names \u001b[38;5;241m=\u001b[39m [\u001b[38;5;124m'\u001b[39m\u001b[38;5;124mlin_model.pkl\u001b[39m\u001b[38;5;124m'\u001b[39m, \u001b[38;5;124m'\u001b[39m\u001b[38;5;124mridge_model.pkl\u001b[39m\u001b[38;5;124m'\u001b[39m, \u001b[38;5;124m'\u001b[39m\u001b[38;5;124mpoly_model.pkl\u001b[39m\u001b[38;5;124m'\u001b[39m]\n\u001b[0;32m----> 7\u001b[0m models \u001b[38;5;241m=\u001b[39m [\u001b[43mlr\u001b[49m, ridge, poly]\n\u001b[1;32m      9\u001b[0m \u001b[38;5;28;01mfor\u001b[39;00m i \u001b[38;5;129;01min\u001b[39;00m \u001b[38;5;28mrange\u001b[39m(\u001b[38;5;28mlen\u001b[39m(model_names)):\n\u001b[1;32m     10\u001b[0m     \u001b[38;5;28;01mwith\u001b[39;00m \u001b[38;5;28mopen\u001b[39m(model_names[i], \u001b[38;5;124m'\u001b[39m\u001b[38;5;124mwb\u001b[39m\u001b[38;5;124m'\u001b[39m) \u001b[38;5;28;01mas\u001b[39;00m f:\n",
            "\u001b[0;31mNameError\u001b[0m: name 'lr' is not defined"
          ],
          "output_type": "error"
        }
      ],
      "id": "6bbe7ad0"
    },
    {
      "cell_type": "code",
      "source": "",
      "metadata": {},
      "execution_count": null,
      "outputs": [],
      "id": "4ace6a04-96ba-427f-8433-2440ecf02947"
    }
  ]
}